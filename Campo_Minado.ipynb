{
  "nbformat": 4,
  "nbformat_minor": 0,
  "metadata": {
    "colab": {
      "name": "Campo Minado.ipynb",
      "version": "0.3.2",
      "provenance": [],
      "collapsed_sections": []
    },
    "kernelspec": {
      "name": "python3",
      "display_name": "Python 3"
    }
  },
  "cells": [
    {
      "cell_type": "markdown",
      "metadata": {
        "id": "view-in-github",
        "colab_type": "text"
      },
      "source": [
        "[View in Colaboratory](https://colab.research.google.com/github/sorazem/CampoMinado/blob/master/Campo_Minado.ipynb)"
      ]
    },
    {
      "metadata": {
        "id": "IHLNNAeShGYC",
        "colab_type": "text"
      },
      "cell_type": "markdown",
      "source": [
        "## Trabalho 1 de Lógica\n",
        "\n",
        "---\n",
        "\n",
        "\n",
        "\n",
        "\n"
      ]
    },
    {
      "metadata": {
        "id": "5AeJwoDgxki2",
        "colab_type": "code",
        "colab": {}
      },
      "cell_type": "code",
      "source": [
        "import numpy as np\n",
        "from sympy.utilities.iterables import multiset_permutations"
      ],
      "execution_count": 0,
      "outputs": []
    },
    {
      "metadata": {
        "id": "6HyrDmFfOknC",
        "colab_type": "text"
      },
      "cell_type": "markdown",
      "source": [
        "### Letra a\n",
        "\n",
        "---\n",
        "\n",
        "\n",
        "\n",
        "\n",
        "> Recebe como entrada as dimensões m e n de um tabuleiro e o número desejado x de bombas para o campo minado, gera e retorna uma interpretação τ aleatória para este cenário inicial onde o tabuleiro está todo ”fechado” (pense numa forma de armazenar esta interpretação que permita a realização do exercício seguinte).\n",
        "\n",
        "\n",
        "\n"
      ]
    },
    {
      "metadata": {
        "id": "q1VvzgqL9W00",
        "colab_type": "code",
        "colab": {
          "base_uri": "https://localhost:8080/",
          "height": 34
        },
        "outputId": "57ddb41f-512a-433a-de57-a6c6d9c68f9a"
      },
      "cell_type": "code",
      "source": [
        "def geraGrid(m, n, x):\n",
        "  \n",
        "  #Criando uma lista de zeros de tamanho m*n\n",
        "  grid = np.zeros((m*n), dtype=np.int)\n",
        "  \n",
        "  #Lista com posições das bombas no intervalo m*n\n",
        "  bombPosition = np.random.choice(m*n, x, replace=False)\n",
        "  #print(bombPosition)\n",
        "\n",
        "  for i in bombPosition:\n",
        "    grid[i] = 1\n",
        " \n",
        "  return grid\n",
        "  \n",
        "grid = geraGrid(2,2,2)\n",
        "print(grid)\n"
      ],
      "execution_count": 6,
      "outputs": [
        {
          "output_type": "stream",
          "text": [
            "[1 1 0 0]\n"
          ],
          "name": "stdout"
        }
      ]
    },
    {
      "metadata": {
        "id": "kls0ZEpNOshb",
        "colab_type": "text"
      },
      "cell_type": "markdown",
      "source": [
        "### Letra b\n",
        "\n",
        "---\n",
        "\n",
        "\n",
        "\n",
        "> Recebe um conjunto T de interpretações possíveis, recebe também a posição de uma casa que não contém bomba, ou seja, uma casa para a qual sabemos que Xi,j não é verdade, e\n",
        "retorna o subconjunto de que contém todas as interpretações condizentes com este novo fato.\n",
        "\n",
        "\n"
      ]
    },
    {
      "metadata": {
        "id": "CgfNHsrOLgtI",
        "colab_type": "code",
        "colab": {
          "base_uri": "https://localhost:8080/",
          "height": 34
        },
        "outputId": "9a01f071-1710-4fc6-c207-4e3fe31fe4fd"
      },
      "cell_type": "code",
      "source": [
        "def geraSubconjuntoGrid(T, pos):\n",
        "  S = []\n",
        "  for i in T:\n",
        "    if i[pos] == 0:\n",
        "      S.append(i)\n",
        "  return S\n",
        "      \n",
        "#Todas as permutações possíveis para o tabuleiro m*n com x bombas\n",
        "T = list(multiset_permutations(grid))\n",
        "\n",
        "#Posição da casa que não tem bomba\n",
        "for i in range(0, len(grid)):\n",
        "  if grid[i] == 0:\n",
        "    pos = i\n",
        "    break\n",
        "\n",
        "geraSubconjuntoGrid(T, pos)"
      ],
      "execution_count": 8,
      "outputs": [
        {
          "output_type": "execute_result",
          "data": {
            "text/plain": [
              "[[0, 1, 0, 1], [1, 0, 0, 1], [1, 1, 0, 0]]"
            ]
          },
          "metadata": {
            "tags": []
          },
          "execution_count": 8
        }
      ]
    },
    {
      "metadata": {
        "id": "guvRwhy8toJs",
        "colab_type": "text"
      },
      "cell_type": "markdown",
      "source": [
        "### Letra c\n",
        "\n",
        "---\n",
        "\n",
        "\n",
        "\n",
        ">  Recebe cinco inteiros: m, n, i, j e k, sendo m o número de linhas do tabuleiro, n o de colunas, i, j a posição (linha, coluna) de uma casa no tabuleiro, e k o número que apareceu nela ao ser ”aberta”. Dado o conjunto de proposições PROP, este módulo deve retornar uma string com a fórmula (bem formada e não ambígua) que representa a situação indicada pela informação revelada ao abrir a casa em questão. Não esqueça de atentar para as condições de contorno, ou seja, para as casas que estão na beirada do tabuleiro.\n",
        "\n"
      ]
    },
    {
      "metadata": {
        "id": "JCXBZu9rG3xC",
        "colab_type": "code",
        "colab": {}
      },
      "cell_type": "code",
      "source": [
        "def printaFormula(F):\n",
        "  for x in F:\n",
        "        for y in range(0, len(x)):\n",
        "          #Caso seja o primeiro elemento, começar com parênteses.\n",
        "          if y == 0:\n",
        "            #Se não tem bomba, nega a proposição.\n",
        "            if x[y] == 0:\n",
        "              print(\"( not X\",y,\"  ∧  \", sep=' ', end='', flush=True)\n",
        "            else:\n",
        "              print(\"( X\",y,\"  ∧  \", sep=' ', end='', flush=True)\n",
        "          \n",
        "          #Caso seja o último elemento, terminar com parênteses.\n",
        "          elif y == len(x)-1:\n",
        "            if x[y] == 0:\n",
        "              print(\"not X\",y,\" )\", sep=' ', end='', flush=True)\n",
        "            else:\n",
        "              print(\"X\",y,\" )\", sep=' ', end='', flush=True)\n",
        "              \n",
        "          else:\n",
        "            if x[y] == 0:\n",
        "              print(\"not X\",y,\"  ∧  \", sep=' ', end='', flush=True)\n",
        "            else:\n",
        "              print(\"X\",y,\"  ∧  \", sep=' ', end='', flush=True)\n",
        "        \n",
        "        if not(x == F[len(F)-1]):\n",
        "          print(\"  ∨  \", sep=' ', end='', flush=True)"
      ],
      "execution_count": 0,
      "outputs": []
    },
    {
      "metadata": {
        "id": "65ddWhAftr7c",
        "colab_type": "code",
        "colab": {
          "base_uri": "https://localhost:8080/",
          "height": 34
        },
        "outputId": "9cdcd74a-db71-455c-e49f-843968d916aa"
      },
      "cell_type": "code",
      "source": [
        "def geraFormula(m, n, i, j, k):\n",
        "  #Condição: cantos do tabuleiro. 3 casas adjacentes.\n",
        "  \n",
        "  if i == 0:\n",
        "    #Canto superior esquerdo. \n",
        "    if j == 0:\n",
        "      #Cria um tabuleiro local (apenas casas adjacentes) com k bombas.\n",
        "      T = list(multiset_permutations(geraGrid(2,2,k)))\n",
        "      \n",
        "      #Não possui bomba na posição 0 no tabuleiro local.\n",
        "      F = geraSubconjuntoGrid(T, 0)\n",
        "      printaFormula(F)\n",
        "    \n",
        "    #Canto superior direito. \n",
        "    if j == n-1:\n",
        "      T = list(multiset_permutations(geraGrid(2,2,k)))\n",
        "      \n",
        "      #Não possui bomba na posição 1 no tabuleiro local.\n",
        "      F = (geraSubconjuntoGrid(T, 1))\n",
        "      printaFormula(F)\n",
        "      \n",
        "  elif i == m-1:\n",
        "    \n",
        "    #Canto inferior esquerdo. \n",
        "    if j == 0:\n",
        "      T = list(multiset_permutations(geraGrid(2,2,k)))\n",
        "      \n",
        "      #Não possui bomba na posição 2 no tabuleiro local.\n",
        "      F = (geraSubconjuntoGrid(T, 2))\n",
        "      printaFormula(F)\n",
        "      \n",
        "    #Canto inferior direito. \n",
        "    if j == n-1:\n",
        "      T = list(multiset_permutations(geraGrid(2,2,k)))\n",
        "      \n",
        "      #Não possui bomba na posição 3 no tabuleiro local.\n",
        "      F = (geraSubconjuntoGrid(T, 3))\n",
        "      printaFormula(F)\n",
        "      \n",
        "      \n",
        "  #Condição: meio do tabuleiro. 8 casas adjacentes.\n",
        "  if j > 0 and j < n-1 and i > 0 and i < m-1: \n",
        "    T = list(multiset_permutations(geraGrid(3,3,k)))\n",
        "\n",
        "    #Não possui bomba na posição 4 no tabuleiro local.\n",
        "    F = (geraSubconjuntoGrid(T, 4))\n",
        "    printaFormula(F)\n",
        "    \n",
        "      \n",
        "  #Condição: laterais do tabuleiro. 5 casas adjacentes.\n",
        "  \n",
        "  if j > 0 and j < n-1:\n",
        "    #Limite superior\n",
        "    if i == 0:\n",
        "      T = list(multiset_permutations(geraGrid(2,3,k)))\n",
        "      \n",
        "      #Não possui bomba na posição 1 no tabuleiro local.\n",
        "      F = (geraSubconjuntoGrid(T, 1))\n",
        "      printaFormula(F)\n",
        "      \n",
        "    #Limite inferior\n",
        "    elif i == m-1:\n",
        "      T = list(multiset_permutations(geraGrid(2,3,k)))\n",
        "      \n",
        "      #Não possui bomba na posição 4 no tabuleiro local.\n",
        "      F = (geraSubconjuntoGrid(T, 4))\n",
        "      printaFormula(F)      \n",
        "      \n",
        "  elif i > 0 and i < m-1:\n",
        "    #Limite esquerdo\n",
        "    if j == 0:\n",
        "      T = list(multiset_permutations(geraGrid(3,2,k)))\n",
        "      \n",
        "      #Não possui bomba na posição 2 no tabuleiro local.\n",
        "      F = (geraSubconjuntoGrid(T, 2))\n",
        "      printaFormula(F)\n",
        "      \n",
        "    #Limite direito\n",
        "    elif j == n-1:\n",
        "      T = list(multiset_permutations(geraGrid(3,2,k)))\n",
        "      \n",
        "      #Não possui bomba na posição 3 no tabuleiro local.\n",
        "      F = (geraSubconjuntoGrid(T, 3))\n",
        "      printaFormula(F)\n",
        "      \n",
        "      \n",
        "      \n",
        "      \n",
        "      \n",
        "      \n",
        "      \n",
        "geraFormula(4,4,0,0,1)"
      ],
      "execution_count": 12,
      "outputs": [
        {
          "output_type": "stream",
          "text": [
            "( not X 0   ∧  not X 1   ∧  not X 2   ∧  X 3  )  ∨  ( not X 0   ∧  not X 1   ∧  X 2   ∧  not X 3  )  ∨  ( not X 0   ∧  X 1   ∧  not X 2   ∧  not X 3  )"
          ],
          "name": "stdout"
        }
      ]
    }
  ]
}