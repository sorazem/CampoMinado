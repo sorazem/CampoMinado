{
  "nbformat": 4,
  "nbformat_minor": 0,
  "metadata": {
    "colab": {
      "name": "Campo Minado.ipynb",
      "version": "0.3.2",
      "provenance": [],
      "collapsed_sections": [
        "6HyrDmFfOknC",
        "kls0ZEpNOshb"
      ]
    },
    "kernelspec": {
      "name": "python3",
      "display_name": "Python 3"
    }
  },
  "cells": [
    {
      "cell_type": "markdown",
      "metadata": {
        "id": "view-in-github",
        "colab_type": "text"
      },
      "source": [
        "[View in Colaboratory](https://colab.research.google.com/github/sorazem/CampoMinado/blob/master/Campo_Minado.ipynb)"
      ]
    },
    {
      "metadata": {
        "id": "IHLNNAeShGYC",
        "colab_type": "text"
      },
      "cell_type": "markdown",
      "source": [
        "## Trabalho 1 de Lógica\n",
        "\n",
        "---\n",
        "\n",
        "\n",
        "\n",
        "\n"
      ]
    },
    {
      "metadata": {
        "id": "5AeJwoDgxki2",
        "colab_type": "code",
        "colab": {}
      },
      "cell_type": "code",
      "source": [
        "import numpy as np\n",
        "from sympy.utilities.iterables import multiset_permutations"
      ],
      "execution_count": 0,
      "outputs": []
    },
    {
      "metadata": {
        "id": "6HyrDmFfOknC",
        "colab_type": "text"
      },
      "cell_type": "markdown",
      "source": [
        "### Letra a\n",
        "\n"
      ]
    },
    {
      "metadata": {
        "id": "q1VvzgqL9W00",
        "colab_type": "code",
        "colab": {
          "base_uri": "https://localhost:8080/",
          "height": 34
        },
        "outputId": "73fd4446-1b25-4a03-dca3-bdf8c3569872"
      },
      "cell_type": "code",
      "source": [
        "def geraGrid(m, n, x):\n",
        "  \n",
        "  #Criando uma lista de zeros de tamanho m*n\n",
        "  grid = np.zeros((m*n), dtype=np.int)\n",
        "  \n",
        "  #Lista com posições das bombas no intervalo m*n\n",
        "  bombPosition = np.random.choice(m*n, x, replace=False)\n",
        "  #print(bombPosition)\n",
        "\n",
        "  for i in bombPosition:\n",
        "    grid[i] = 1\n",
        " \n",
        "  return grid\n",
        "  \n",
        "grid = geraGrid(2,2,2)\n",
        "print(grid)\n"
      ],
      "execution_count": 114,
      "outputs": [
        {
          "output_type": "stream",
          "text": [
            "[1 0 1 0]\n"
          ],
          "name": "stdout"
        }
      ]
    },
    {
      "metadata": {
        "id": "kls0ZEpNOshb",
        "colab_type": "text"
      },
      "cell_type": "markdown",
      "source": [
        "### Letra b\n"
      ]
    },
    {
      "metadata": {
        "id": "CgfNHsrOLgtI",
        "colab_type": "code",
        "colab": {
          "base_uri": "https://localhost:8080/",
          "height": 34
        },
        "outputId": "bebe5756-d9f8-4d1a-8a1d-004874c594c0"
      },
      "cell_type": "code",
      "source": [
        "def geraSubconjuntoGrid(T, pos):\n",
        "  S = []\n",
        "  for i in T:\n",
        "    if i[pos] == 0:\n",
        "      S.append(i)\n",
        "  return S\n",
        "      \n",
        "#Todas as permutações possíveis para o tabuleiro m*n com x bombas\n",
        "T = list(multiset_permutations(grid))\n",
        "\n",
        "#Posição da casa que não tem bomba\n",
        "for i in range(0, len(grid)):\n",
        "  if grid[i] == 0:\n",
        "    pos = i\n",
        "\n",
        "geraSubconjuntoGrid(T, pos)"
      ],
      "execution_count": 119,
      "outputs": [
        {
          "output_type": "execute_result",
          "data": {
            "text/plain": [
              "[[0, 1, 1, 0], [1, 0, 1, 0], [1, 1, 0, 0]]"
            ]
          },
          "metadata": {
            "tags": []
          },
          "execution_count": 119
        }
      ]
    },
    {
      "metadata": {
        "id": "guvRwhy8toJs",
        "colab_type": "text"
      },
      "cell_type": "markdown",
      "source": [
        "### Letra c"
      ]
    },
    {
      "metadata": {
        "id": "JCXBZu9rG3xC",
        "colab_type": "code",
        "colab": {}
      },
      "cell_type": "code",
      "source": [
        "def printaFormula(F):\n",
        "  for x in F:\n",
        "        for y in range(0, len(x)):\n",
        "          #Caso seja o primeiro elemento, começar com parênteses.\n",
        "          if y == 0:\n",
        "            #Se não tem bomba, nega a proposição. Caso contrário, mantém o valor.\n",
        "            if x[y] == 0:\n",
        "              print(\"( not X  ∧  \", sep=' ', end='', flush=True)\n",
        "            else:\n",
        "              print(\"( X  ∧  \", sep=' ', end='', flush=True)\n",
        "          \n",
        "          #Caso seja o último elemento, terminar com parênteses.\n",
        "          elif y == len(x)-1:\n",
        "            if x[y] == 0:\n",
        "              print(\"not X )\", sep=' ', end='', flush=True)\n",
        "            else:\n",
        "              print(\"X )\", sep=' ', end='', flush=True)\n",
        "              \n",
        "          else:\n",
        "            if x[y] == 0:\n",
        "              print(\"not X  ∧  \", sep=' ', end='', flush=True)\n",
        "            else:\n",
        "              print(\"X  ∧  \", sep=' ', end='', flush=True)\n",
        "        \n",
        "        if not(x == F[len(F)-1]):\n",
        "          print(\"  ∨  \", sep=' ', end='', flush=True)"
      ],
      "execution_count": 0,
      "outputs": []
    },
    {
      "metadata": {
        "id": "65ddWhAftr7c",
        "colab_type": "code",
        "colab": {
          "base_uri": "https://localhost:8080/",
          "height": 34
        },
        "outputId": "7c2e8bf8-da2b-46f6-ecee-dc75eb2aa772"
      },
      "cell_type": "code",
      "source": [
        "def geraFormula(m, n, i, j, k):\n",
        "  #Condição: cantos do tabuleiro.\n",
        "  \n",
        "  if i == 0:\n",
        "    #Canto superior esquerdo. \n",
        "    if j == 0:\n",
        "      #Cria um tabuleiro local (apenas casas adjacentes) com k bombas.\n",
        "      T = list(multiset_permutations(geraGrid(2,2,k)))\n",
        "      \n",
        "      #Não possui bomba na posição 0 no tabuleiro local.\n",
        "      F = geraSubconjuntoGrid(T, 0)\n",
        "      printaFormula(F)\n",
        "    \n",
        "    #Canto superior direito. \n",
        "    if j == n-1:\n",
        "      T = list(multiset_permutations(geraGrid(2,2,k)))\n",
        "      \n",
        "      #Não possui bomba na posição 1 no tabuleiro local.\n",
        "      F = (geraSubconjuntoGrid(T, 1))\n",
        "      printaFormula(F)\n",
        "      \n",
        "  elif i == m-1:\n",
        "    \n",
        "    #Canto inferior esquerdo. \n",
        "    if j == 0:\n",
        "      T = list(multiset_permutations(geraGrid(2,2,k)))\n",
        "      \n",
        "      #Não possui bomba na posição 2 no tabuleiro local.\n",
        "      F = (geraSubconjuntoGrid(T, 2))\n",
        "      printaFormula(F)\n",
        "      \n",
        "    #Canto inferior direito. \n",
        "    if j == n-1:\n",
        "      T = list(multiset_permutations(geraGrid(2,2,k)))\n",
        "       #Não possui bomba na posição 3 no tabuleiro local.\n",
        "      F = (geraSubconjuntoGrid(T, 3))\n",
        "      printaFormula(F)\n",
        "      \n",
        "  #Condição: laterais do tabuleiro.\n",
        "  #Help.\n",
        "      \n",
        "      \n",
        "      \n",
        "      \n",
        "      \n",
        "geraFormula(4,4,0,0,1)"
      ],
      "execution_count": 117,
      "outputs": [
        {
          "output_type": "stream",
          "text": [
            "( not X  ∧  not X  ∧  not X  ∧  X )  ∨  ( not X  ∧  not X  ∧  X  ∧  not X )  ∨  ( not X  ∧  X  ∧  not X  ∧  not X )"
          ],
          "name": "stdout"
        }
      ]
    }
  ]
}